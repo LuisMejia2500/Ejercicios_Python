{
  "nbformat": 4,
  "nbformat_minor": 0,
  "metadata": {
    "colab": {
      "name": "jsons.ipynb",
      "provenance": [],
      "include_colab_link": true
    },
    "kernelspec": {
      "name": "python3",
      "display_name": "Python 3"
    }
  },
  "cells": [
    {
      "cell_type": "markdown",
      "metadata": {
        "id": "view-in-github",
        "colab_type": "text"
      },
      "source": [
        "<a href=\"https://colab.research.google.com/github/LuisMejia2500/Ejercicios_Python/blob/master/jsons.ipynb\" target=\"_parent\"><img src=\"https://colab.research.google.com/assets/colab-badge.svg\" alt=\"Open In Colab\"/></a>"
      ]
    },
    {
      "cell_type": "code",
      "metadata": {
        "id": "EakxUaornopi",
        "outputId": "70c148dc-84e3-4718-db1b-e0e15211a566",
        "colab": {
          "base_uri": "https://localhost:8080/",
          "height": 425
        }
      },
      "source": [
        "import urllib.request\n",
        "import json\n",
        "from math import *\n",
        "\n",
        "def data(link):\n",
        "  resul=urllib.request.urlopen(link)\n",
        "  con=resul.read()\n",
        "  contenido=json.loads(con.decode(\"utf-8\"))\n",
        "  return contenido\n",
        "\n",
        "def descuento(Total):\n",
        "  descuento=0\n",
        "  if Total>700000:\n",
        "    descuento=Total*0.2\n",
        "  elif (Total>300000):\n",
        "    descuento=Total*0.15\n",
        "  elif (Total>150000):\n",
        "    descuento=Total*0.1\n",
        "  return descuento\n",
        "\n",
        "def impresion(link):\n",
        "  totalfac=0\n",
        "  consul= data(link)\n",
        "  for dato in consul:\n",
        "    print(\"Centro Comercial Unaleño\")\n",
        "    print(\"Compra más y Gasta Menos\")\n",
        "    print(\"NIT: 899.999.063\")\n",
        "    print(\"Cliente:\", dato[\"cliente\"])\n",
        "    print(\"Art Cant Precio\")\n",
        "    for x in range(int (len(dato[\"productos\"]))):\n",
        "      nombre_producto=dato[\"productos\"][x][\"nombre\"]\n",
        "      cantidad_producto=str (dato[\"productos\"][x][\"cantidad\"])\n",
        "      PrecioTotal_Producto=int (dato[\"productos\"][x][\"precio unitario\"]) * int (dato[\"productos\"][x][\"cantidad\"])\n",
        "      print(nombre_producto , \"x\" + str (cantidad_producto),\"$\"+str (PrecioTotal_Producto))\n",
        "      totalfac +=PrecioTotal_Producto\n",
        "    print(\"Total: $\" , str (ceil(totalfac-descuento(totalfac))))\n",
        "    print(\"En esta compra tu descuento fue $\" , str (floor(descuento(totalfac))))\n",
        "    print(\"Gracias por tu compra\")\n",
        "    print(\"---\")\n",
        "    totalfac=0\n",
        "\n",
        "\n",
        "link=input()\n",
        "impresion(link)\n",
        "    \n"
      ],
      "execution_count": 6,
      "outputs": [
        {
          "output_type": "stream",
          "text": [
            "https://raw.githubusercontent.com/arleserp/MinTIC2022/master/json/comprassmall.json\n",
            "Centro Comercial Unaleño\n",
            "Compra más y Gasta Menos\n",
            "NIT: 899.999.063\n",
            "Cliente: 80849599\n",
            "Art Cant Precio\n",
            "Chocolatinas Cohete x3 $900\n",
            "Mora x1 $1000\n",
            "Pan de Maiz x5 $1500\n",
            "Total: $ 3400\n",
            "En esta compra tu descuento fue $ 0\n",
            "Gracias por tu compra\n",
            "---\n",
            "Centro Comercial Unaleño\n",
            "Compra más y Gasta Menos\n",
            "NIT: 899.999.063\n",
            "Cliente: 1022734737\n",
            "Art Cant Precio\n",
            "Televisor x2 $3000000\n",
            "Teatro en Casa x1 $450000\n",
            "Total: $ 2760000\n",
            "En esta compra tu descuento fue $ 690000\n",
            "Gracias por tu compra\n",
            "---\n"
          ],
          "name": "stdout"
        }
      ]
    }
  ]
}