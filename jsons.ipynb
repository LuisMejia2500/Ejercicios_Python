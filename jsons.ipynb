{
  "nbformat": 4,
  "nbformat_minor": 0,
  "metadata": {
    "colab": {
      "name": "jsons.ipynb",
      "provenance": [],
      "authorship_tag": "ABX9TyOGj1FMhKqskqpjJUKV3oeK",
      "include_colab_link": true
    },
    "kernelspec": {
      "name": "python3",
      "display_name": "Python 3"
    }
  },
  "cells": [
    {
      "cell_type": "markdown",
      "metadata": {
        "id": "view-in-github",
        "colab_type": "text"
      },
      "source": [
        "<a href=\"https://colab.research.google.com/github/LuisMejia2500/Ejercicios_Python/blob/master/jsons.ipynb\" target=\"_parent\"><img src=\"https://colab.research.google.com/assets/colab-badge.svg\" alt=\"Open In Colab\"/></a>"
      ]
    },
    {
      "cell_type": "code",
      "metadata": {
        "id": "EakxUaornopi",
        "outputId": "e6deb860-5be6-4efd-b2b5-19e55af8aaf0",
        "colab": {
          "base_uri": "https://localhost:8080/",
          "height": 435
        }
      },
      "source": [
        "import urllib.request\n",
        "import json\n",
        "from math import *\n",
        "\n",
        "def data(link):\n",
        "  resul=urllib.request.urlopen(link)\n",
        "  con=resul.read()\n",
        "  contenido=json.loads(con.decode(\"utf-8\"))\n",
        "  return contenido\n",
        "\n",
        "def descuento(Total):\n",
        "  descuento=0\n",
        "  if Total>700000:\n",
        "    descuento=Total*0.2\n",
        "  elif (Total>300000):\n",
        "    descuento=Total*0.15\n",
        "  elif (Total>150000):\n",
        "    descuento=Total*0.1\n",
        "  return descuento\n",
        "\n",
        "def impresion(link):\n",
        "  totalfac=0\n",
        "  consul= data(link)\n",
        "  for dato in consul:\n",
        "    print(\"Centro Comercial Unaleño\")\n",
        "    print(\"Compra más y Gasta Menos\")\n",
        "    print(\"NIT: 899.999.063\")\n",
        "    print(\"Cliente:\", dato[\"cliente\"])\n",
        "    print(\"Art Cant Precio\")\n",
        "    for x in range(int (len(dato[\"productos\"]))):\n",
        "      print((dato[\"productos\"][x][\"nombre\"]) , \" x\" , str (dato[\"productos\"][x][\"cantidad\"] , \" $\" ))\n",
        "                                                           #, str ( ( (dato[\"productos\"][x][\"precio unitario\"]) * (dato[\"productos\"][x][\"cantidad\"])))))\n",
        "      totalfac +=(dato[\"productos\"][x][\"precio unitario\"] * dato[\"productos\"][x][\"cantidad\"])\n",
        "    print(\"Total: $\" , str (ceil(totalfac-descuento(totalfac))))\n",
        "    print(\"En esta compra tu descuento fue $\" , str (floor(descuento(totalfac))))\n",
        "    print(\"Gracias por tu compra\")\n",
        "    print(\"---\")\n",
        "    totalfac=0\n",
        "\n",
        "\n",
        "link=input()\n",
        "impresion(link)\n",
        "    \n"
      ],
      "execution_count": 35,
      "outputs": [
        {
          "output_type": "stream",
          "text": [
            "https://raw.githubusercontent.com/arleserp/MinTIC2022/master/json/comprassmall.json\n",
            "Centro Comercial Unaleño\n",
            "Compra más y Gasta Menos\n",
            "NIT: 899.999.063\n",
            "Cliente: 80849599\n",
            "Art Cant Precio\n"
          ],
          "name": "stdout"
        },
        {
          "output_type": "error",
          "ename": "TypeError",
          "evalue": "ignored",
          "traceback": [
            "\u001b[0;31m---------------------------------------------------------------------------\u001b[0m",
            "\u001b[0;31mTypeError\u001b[0m                                 Traceback (most recent call last)",
            "\u001b[0;32m<ipython-input-35-0a2131767783>\u001b[0m in \u001b[0;36m<module>\u001b[0;34m()\u001b[0m\n\u001b[1;32m     40\u001b[0m \u001b[0;34m\u001b[0m\u001b[0m\n\u001b[1;32m     41\u001b[0m \u001b[0mlink\u001b[0m\u001b[0;34m=\u001b[0m\u001b[0minput\u001b[0m\u001b[0;34m(\u001b[0m\u001b[0;34m)\u001b[0m\u001b[0;34m\u001b[0m\u001b[0;34m\u001b[0m\u001b[0m\n\u001b[0;32m---> 42\u001b[0;31m \u001b[0mimpresion\u001b[0m\u001b[0;34m(\u001b[0m\u001b[0mlink\u001b[0m\u001b[0;34m)\u001b[0m\u001b[0;34m\u001b[0m\u001b[0;34m\u001b[0m\u001b[0m\n\u001b[0m\u001b[1;32m     43\u001b[0m \u001b[0;34m\u001b[0m\u001b[0m\n",
            "\u001b[0;32m<ipython-input-35-0a2131767783>\u001b[0m in \u001b[0;36mimpresion\u001b[0;34m(link)\u001b[0m\n\u001b[1;32m     29\u001b[0m     \u001b[0mprint\u001b[0m\u001b[0;34m(\u001b[0m\u001b[0;34m\"Art Cant Precio\"\u001b[0m\u001b[0;34m)\u001b[0m\u001b[0;34m\u001b[0m\u001b[0;34m\u001b[0m\u001b[0m\n\u001b[1;32m     30\u001b[0m     \u001b[0;32mfor\u001b[0m \u001b[0mx\u001b[0m \u001b[0;32min\u001b[0m \u001b[0mrange\u001b[0m\u001b[0;34m(\u001b[0m\u001b[0mint\u001b[0m \u001b[0;34m(\u001b[0m\u001b[0mlen\u001b[0m\u001b[0;34m(\u001b[0m\u001b[0mdato\u001b[0m\u001b[0;34m[\u001b[0m\u001b[0;34m\"productos\"\u001b[0m\u001b[0;34m]\u001b[0m\u001b[0;34m)\u001b[0m\u001b[0;34m)\u001b[0m\u001b[0;34m)\u001b[0m\u001b[0;34m:\u001b[0m\u001b[0;34m\u001b[0m\u001b[0;34m\u001b[0m\u001b[0m\n\u001b[0;32m---> 31\u001b[0;31m       \u001b[0mprint\u001b[0m\u001b[0;34m(\u001b[0m\u001b[0;34m(\u001b[0m\u001b[0mdato\u001b[0m\u001b[0;34m[\u001b[0m\u001b[0;34m\"productos\"\u001b[0m\u001b[0;34m]\u001b[0m\u001b[0;34m[\u001b[0m\u001b[0mx\u001b[0m\u001b[0;34m]\u001b[0m\u001b[0;34m[\u001b[0m\u001b[0;34m\"nombre\"\u001b[0m\u001b[0;34m]\u001b[0m\u001b[0;34m)\u001b[0m \u001b[0;34m,\u001b[0m \u001b[0;34m\" x\"\u001b[0m \u001b[0;34m,\u001b[0m \u001b[0mstr\u001b[0m \u001b[0;34m(\u001b[0m\u001b[0mdato\u001b[0m\u001b[0;34m[\u001b[0m\u001b[0;34m\"productos\"\u001b[0m\u001b[0;34m]\u001b[0m\u001b[0;34m[\u001b[0m\u001b[0mx\u001b[0m\u001b[0;34m]\u001b[0m\u001b[0;34m[\u001b[0m\u001b[0;34m\"cantidad\"\u001b[0m\u001b[0;34m]\u001b[0m \u001b[0;34m,\u001b[0m \u001b[0;34m\" $\"\u001b[0m \u001b[0;34m)\u001b[0m\u001b[0;34m)\u001b[0m\u001b[0;34m\u001b[0m\u001b[0;34m\u001b[0m\u001b[0m\n\u001b[0m\u001b[1;32m     32\u001b[0m                                                            \u001b[0;31m#, str ( ( (dato[\"productos\"][x][\"precio unitario\"]) * (dato[\"productos\"][x][\"cantidad\"])))))\u001b[0m\u001b[0;34m\u001b[0m\u001b[0;34m\u001b[0m\u001b[0;34m\u001b[0m\u001b[0m\n\u001b[1;32m     33\u001b[0m       \u001b[0mtotalfac\u001b[0m \u001b[0;34m+=\u001b[0m\u001b[0;34m(\u001b[0m\u001b[0mdato\u001b[0m\u001b[0;34m[\u001b[0m\u001b[0;34m\"productos\"\u001b[0m\u001b[0;34m]\u001b[0m\u001b[0;34m[\u001b[0m\u001b[0mx\u001b[0m\u001b[0;34m]\u001b[0m\u001b[0;34m[\u001b[0m\u001b[0;34m\"precio unitario\"\u001b[0m\u001b[0;34m]\u001b[0m \u001b[0;34m*\u001b[0m \u001b[0mdato\u001b[0m\u001b[0;34m[\u001b[0m\u001b[0;34m\"productos\"\u001b[0m\u001b[0;34m]\u001b[0m\u001b[0;34m[\u001b[0m\u001b[0mx\u001b[0m\u001b[0;34m]\u001b[0m\u001b[0;34m[\u001b[0m\u001b[0;34m\"cantidad\"\u001b[0m\u001b[0;34m]\u001b[0m\u001b[0;34m)\u001b[0m\u001b[0;34m\u001b[0m\u001b[0;34m\u001b[0m\u001b[0m\n",
            "\u001b[0;31mTypeError\u001b[0m: decoding to str: need a bytes-like object, int found"
          ]
        }
      ]
    }
  ]
}