{
  "nbformat": 4,
  "nbformat_minor": 0,
  "metadata": {
    "colab": {
      "name": "Condicionale.ipynb",
      "provenance": [],
      "authorship_tag": "ABX9TyNIMa72SzHG0mV7EuOjlP7S",
      "include_colab_link": true
    },
    "kernelspec": {
      "name": "python3",
      "display_name": "Python 3"
    }
  },
  "cells": [
    {
      "cell_type": "markdown",
      "metadata": {
        "id": "view-in-github",
        "colab_type": "text"
      },
      "source": [
        "<a href=\"https://colab.research.google.com/github/LuisMejia2500/Ejericios_Python/blob/master/Condicionale.ipynb\" target=\"_parent\"><img src=\"https://colab.research.google.com/assets/colab-badge.svg\" alt=\"Open In Colab\"/></a>"
      ]
    },
    {
      "cell_type": "code",
      "metadata": {
        "id": "QH3yJKf5XDR5",
        "colab_type": "code",
        "colab": {
          "base_uri": "https://localhost:8080/",
          "height": 102
        },
        "outputId": "21b5555c-b65f-4e92-c960-cef3c295c801"
      },
      "source": [
        "A=int(input())\n",
        "B=int(input())\n",
        "C=int(input())\n",
        "D=int(input())\n",
        "suma1=C+D\n",
        "suma2=A+B\n",
        "\n",
        "par= A % 2\n",
        "\n",
        "\n",
        "if B > C and D > A and suma1 > suma2  and C>0 and D>0 and par == 0:\n",
        "  print(\"Valores aceptados\")\n",
        "else:\n",
        "  print(\"Valores no aceptados\")\n",
        "\n",
        "\n",
        "\n",
        "\n",
        "\n",
        "\n",
        "\n"
      ],
      "execution_count": 7,
      "outputs": [
        {
          "output_type": "stream",
          "text": [
            "4\n",
            "7\n",
            "-5\n",
            "25\n",
            "Valores no aceptados\n"
          ],
          "name": "stdout"
        }
      ]
    }
  ]
}