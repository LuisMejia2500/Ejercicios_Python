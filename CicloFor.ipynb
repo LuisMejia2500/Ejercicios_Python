{
  "nbformat": 4,
  "nbformat_minor": 0,
  "metadata": {
    "colab": {
      "name": "CicloFor.ipynb",
      "provenance": [],
      "authorship_tag": "ABX9TyM197R3BNMzMo8gLWtbbiuL",
      "include_colab_link": true
    },
    "kernelspec": {
      "name": "python3",
      "display_name": "Python 3"
    }
  },
  "cells": [
    {
      "cell_type": "markdown",
      "metadata": {
        "id": "view-in-github",
        "colab_type": "text"
      },
      "source": [
        "<a href=\"https://colab.research.google.com/github/LuisMejia2500/Ejericios_Python/blob/master/CicloFor.ipynb\" target=\"_parent\"><img src=\"https://colab.research.google.com/assets/colab-badge.svg\" alt=\"Open In Colab\"/></a>"
      ]
    },
    {
      "cell_type": "code",
      "metadata": {
        "id": "9FlnGLTz5SQD",
        "outputId": "c75bf074-a105-47ec-9ff7-c04374342249",
        "colab": {
          "base_uri": "https://localhost:8080/",
          "height": 153
        }
      },
      "source": [
        "n=int (input(\"digite n: \"))\n",
        "m=int (input(\"digite m:\"))\n",
        "i=0\n",
        "print(\"Los múltiplos son:\")\n",
        "\n",
        "def multiplos():\n",
        "\n",
        "#For es un BUCLE que sirve para repetir un bloque de codigo\n",
        "#Range puede aceptar hasta 3 argumentos 1 argumento desde donde inicia. 2 argumento: Hasta donde va. 3 en cuanto va incrementando la variable\n",
        "  for i in range (0, n+1 , m):\n",
        "    print(i)\n",
        "multiplos()\n"
      ],
      "execution_count": 11,
      "outputs": [
        {
          "output_type": "stream",
          "text": [
            "digite n:25\n",
            "digite m:5\n",
            "0\n",
            "5\n",
            "10\n",
            "15\n",
            "20\n",
            "25\n"
          ],
          "name": "stdout"
        }
      ]
    }
  ]
}