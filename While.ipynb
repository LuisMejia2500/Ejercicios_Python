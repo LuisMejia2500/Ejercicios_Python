{
  "nbformat": 4,
  "nbformat_minor": 0,
  "metadata": {
    "colab": {
      "name": "While.ipynb",
      "provenance": [],
      "authorship_tag": "ABX9TyO6lSDsihn8hViFWdx2Th4g",
      "include_colab_link": true
    },
    "kernelspec": {
      "name": "python3",
      "display_name": "Python 3"
    }
  },
  "cells": [
    {
      "cell_type": "markdown",
      "metadata": {
        "id": "view-in-github",
        "colab_type": "text"
      },
      "source": [
        "<a href=\"https://colab.research.google.com/github/LuisMejia2500/Ejericios_Python/blob/master/While.ipynb\" target=\"_parent\"><img src=\"https://colab.research.google.com/assets/colab-badge.svg\" alt=\"Open In Colab\"/></a>"
      ]
    },
    {
      "cell_type": "code",
      "metadata": {
        "id": "61h1IKjXeeTV",
        "colab_type": "code",
        "colab": {
          "base_uri": "https://localhost:8080/",
          "height": 68
        },
        "outputId": "f3c586d6-404c-46ac-bf28-ab882c27204c"
      },
      "source": [
        "def crecimiento(A,B):\n",
        "  i=1\n",
        "  while A>B:\n",
        "      i=i+1\n",
        "      A *=1.02\n",
        "      B *=1.03\n",
        "  return (int(i))\n",
        "\n",
        "\n",
        "A=int(input())\n",
        "B=int(input())\n",
        "\n",
        "print(crecimiento(A,B))\n",
        "\n",
        "            \n",
        "\n"
      ],
      "execution_count": 55,
      "outputs": [
        {
          "output_type": "stream",
          "text": [
            "25000000\n",
            "19900000\n",
            "2\n"
          ],
          "name": "stdout"
        }
      ]
    }
  ]
}