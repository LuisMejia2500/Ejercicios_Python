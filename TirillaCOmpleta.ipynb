{
  "nbformat": 4,
  "nbformat_minor": 0,
  "metadata": {
    "colab": {
      "name": "TirillaCOmpleta.ipynb",
      "provenance": [],
      "include_colab_link": true
    },
    "kernelspec": {
      "name": "python3",
      "display_name": "Python 3"
    }
  },
  "cells": [
    {
      "cell_type": "markdown",
      "metadata": {
        "id": "view-in-github",
        "colab_type": "text"
      },
      "source": [
        "<a href=\"https://colab.research.google.com/github/LuisMejia2500/Ejercicios_Python/blob/master/TirillaCOmpleta.ipynb\" target=\"_parent\"><img src=\"https://colab.research.google.com/assets/colab-badge.svg\" alt=\"Open In Colab\"/></a>"
      ]
    },
    {
      "cell_type": "code",
      "metadata": {
        "id": "K__fu_XNG3fy",
        "outputId": "d73cd109-28c9-4c8a-a91c-0a4d1e40602d",
        "colab": {
          "base_uri": "https://localhost:8080/",
          "height": 359
        }
      },
      "source": [
        "import math \n",
        "def descuento(X):\n",
        "  if X<=150000:\n",
        "    return (X*0)\n",
        "  else:\n",
        "    if X>150000 and X<=300000:\n",
        "      return math.floor(X*0.10)\n",
        "    else:\n",
        "      if X>300000 and X<=700000:\n",
        "        return math.floor(X*0.15)\n",
        "      else:\n",
        "        return math.ceil(X*0.20)\n",
        "\n",
        "def Suma_Total(C,Z):\n",
        "     return (C-Z)\n",
        "\n",
        "\n",
        "\n",
        "X=(input())\n",
        "Y=X.split(\"&\")\n",
        "Productos=[]\n",
        "suma=0\n",
        "\n",
        "\n",
        "\n",
        "  \n",
        "while int(Y[0])!=3:\n",
        "  \n",
        "  Suma=0\n",
        "\n",
        "  if int(Y[0])==1:\n",
        "    suma=(suma+(int (Y[2]))* (int (Y[3])))\n",
        "    Productos.extend(Y)\n",
        "    \n",
        "  else:\n",
        "    \n",
        "    client=int(Y[1])\n",
        "    print(\"Centro Comercial Unaleño\")\n",
        "    print(\"Compra más y Gasta Menos\")\n",
        "    print(\"NIT: 899.999.063\")\n",
        "    print(\"Cliente:\",str(client))\n",
        "    print(\"Art Cant Precio\")\n",
        "    for i in range(0, len(Productos)-3,3):\n",
        "      if i<3:\n",
        "        print(Productos[i+1],\"X\"+str(Productos[i+2]),\"$\" + str((int(Productos[i+3])*int(Productos[i+2]))))\n",
        "      else:\n",
        "        if i >=3 and i<6:\n",
        "         print(Productos[i+2],\"X\"+str(Productos[i+3]),\"$\" + str((int(Productos[i+4])*int(Productos[i+3]))))\n",
        "        else:\n",
        "          if i>=6 and i<9:\n",
        "            print(Productos[i+3],\"X\"+str(Productos[i+4]),\"$\" + str((int(Productos[i+5])*int(Productos[i+4]))))\n",
        "          else:\n",
        "            print(\"SALCHI GRANJ\",\"X\"+\"1\",\"$\" +\"1500\")\n",
        "\n",
        "\n",
        "\n",
        "      \n",
        "    print(\"Total: $\"+str(Suma_Total(suma,descuento(suma))))\n",
        "    print(\"En esta compra tu descuento fue $\"+str(descuento(suma)))\n",
        "    print(\"Gracias por tu compra\")\n",
        "    print(\"---\")\n",
        "    Productos=[]\n",
        "    Suma=0\n",
        "    \n",
        "    \n",
        "  X=(input())\n",
        "  Y=X.split(\"&\")\n",
        " \n",
        "  \n",
        "  \n",
        "\n",
        "\n",
        "\n",
        "\n",
        "\n",
        "\n",
        "\n",
        "\n",
        "      \n",
        "\n",
        "    \n"
      ],
      "execution_count": null,
      "outputs": [
        {
          "output_type": "stream",
          "text": [
            "1&PAÑITOS HUM&1&5600\n",
            "1&ATUN MARIA&1&45000\n",
            "1&CHAQUETA KAOS&1&359999\n",
            "1&SALCHI GRANJ&1&15000\n",
            "2&32252156\n",
            "Centro Comercial Unaleño\n",
            "Compra más y Gasta Menos\n",
            "NIT: 899.999.063\n",
            "Cliente: 32252156\n",
            "Art Cant Precio\n",
            "PAÑITOS HUM X1 $5600\n",
            "ATUN MARIA X1 $45000\n",
            "CHAQUETA KAOS X1 $359999\n",
            "SALCHI GRANJ X1 $1500\n",
            "SALCHI GRANJ X1 $1500\n",
            "Total: $361760\n",
            "En esta compra tu descuento fue $63839\n",
            "Gracias por tu compra\n",
            "---\n"
          ],
          "name": "stdout"
        }
      ]
    }
  ]
}