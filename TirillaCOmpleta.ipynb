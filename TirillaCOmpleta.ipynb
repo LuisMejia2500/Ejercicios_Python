{
  "nbformat": 4,
  "nbformat_minor": 0,
  "metadata": {
    "colab": {
      "name": "TirillaCOmpleta.ipynb",
      "provenance": [],
      "authorship_tag": "ABX9TyM96MFBYupkjFhag5AJtqIx",
      "include_colab_link": true
    },
    "kernelspec": {
      "name": "python3",
      "display_name": "Python 3"
    }
  },
  "cells": [
    {
      "cell_type": "markdown",
      "metadata": {
        "id": "view-in-github",
        "colab_type": "text"
      },
      "source": [
        "<a href=\"https://colab.research.google.com/github/LuisMejia2500/Ejercicios_Python/blob/master/TirillaCOmpleta.ipynb\" target=\"_parent\"><img src=\"https://colab.research.google.com/assets/colab-badge.svg\" alt=\"Open In Colab\"/></a>"
      ]
    },
    {
      "cell_type": "code",
      "metadata": {
        "id": "K__fu_XNG3fy",
        "outputId": "303855fb-7ef4-4d1d-8a07-04e8d834ed20",
        "colab": {
          "base_uri": "https://localhost:8080/",
          "height": 707
        }
      },
      "source": [
        "import math \n",
        "def descuento(X):\n",
        "  if X<=150000:\n",
        "    return (X*0)\n",
        "  else:\n",
        "    if X>150000 and X<=300000:\n",
        "      return math.floor(X*0.10)\n",
        "    else:\n",
        "      if X>300000 and X<=700000:\n",
        "        return math.floor(X*0.15)\n",
        "      else:\n",
        "        return math.floor(X*0.20)\n",
        "\n",
        "def Suma_Total(C,Z):\n",
        "     return (C-Z)\n",
        "\n",
        "\n",
        "\n",
        "X=(input())\n",
        "Y=X.split(\"&\")\n",
        "Productos=[]\n",
        "suma=0\n",
        "\n",
        "\n",
        "\n",
        "  \n",
        "while int(Y[0])!=3:\n",
        "  \n",
        "  Suma=0\n",
        "\n",
        "  if int(Y[0])==1:\n",
        "    suma=(suma+(int (Y[2]))* (int (Y[3])))\n",
        "    Productos.extend(Y)\n",
        "    \n",
        "  else:\n",
        "    client=int(Y[1])\n",
        "    print(\"Centro Comercial Unaleño\")\n",
        "    print(\"Compra más y Gasta Menos\")\n",
        "    print(\"NIT: 899.999.063\")\n",
        "    print(\"Cliente: \" , client)\n",
        "    print(\"Art Cant Precio\")\n",
        "    for i in range(0, len(Productos)-3,3):\n",
        "      if i<3:\n",
        "        print(Productos[i+1],\"X\"+str(Productos[i+2]),\"$\" + str((int(Productos[i+3])*int(Productos[i+2]))))\n",
        "      else:\n",
        "        if i >=3 and i<6:\n",
        "         print(Productos[i+2],\"X\"+str(Productos[i+3]),\"$\" + str((int(Productos[i+4])*int(Productos[i+3]))))\n",
        "        else:\n",
        "          if i>=6 and i<9:\n",
        "            print(Productos[i+3],\"X\"+str(Productos[i+4]),\"$\" + str((int(Productos[i+5])*int(Productos[i+4]))))\n",
        "          else:\n",
        "            print(Productos[i+4],\"X\"+str(Productos[i+5]),\"$\" + str((int(Productos[i+6])*int(Productos[i+5]))))\n",
        "\n",
        "\n",
        "\n",
        "      \n",
        "    print(\"Total: $\"+str(Suma_Total(suma,descuento(suma))))\n",
        "    print(\"En esta compra tu descuento fue $\"+str(descuento(suma)))\n",
        "    print(\"Gracias por tu compra\")\n",
        "    print(\"---\")\n",
        "    Productos=[]\n",
        "    \n",
        "    \n",
        "  X=(input())\n",
        "  Y=X.split(\"&\")\n",
        " \n",
        "  \n",
        "  \n",
        "\n",
        "\n",
        "\n",
        "\n",
        "\n",
        "\n",
        "\n",
        "\n",
        "      \n",
        "\n",
        "    \n"
      ],
      "execution_count": 76,
      "outputs": [
        {
          "output_type": "stream",
          "text": [
            "1&Chocolatinas Cohete&3&300\n",
            "1&Mora&1&1000\n",
            "1&Pan de Maiz&5&300\n",
            "2&1022734737\n",
            "Centro Comercial Unaleño\n",
            "Compra más y Gasta Menos\n",
            "NIT: 899.999.063\n",
            "Cliente:  1022734737\n",
            "Art Cant Precio\n",
            "Chocolatinas Cohete X3 $900\n",
            "Mora X1 $1000\n",
            "Pan de Maiz X5 $1500\n",
            "Total: $3400\n",
            "En esta compra tu descuento fue $0\n",
            "Gracias por tu compra\n",
            "---\n",
            "1&Televisor&2&1500000\n",
            "1&Teatro en Casa&1&450000\n",
            "2&99999287\n",
            "Centro Comercial Unaleño\n",
            "Compra más y Gasta Menos\n",
            "NIT: 899.999.063\n",
            "Cliente:  99999287\n",
            "Art Cant Precio\n",
            "Chocolatinas Cohete X3 $900\n",
            "Mora X1 $1000\n",
            "Pan de Maiz X5 $1500\n",
            "Televisor X2 $3000000\n"
          ],
          "name": "stdout"
        },
        {
          "output_type": "error",
          "ename": "ValueError",
          "evalue": "ignored",
          "traceback": [
            "\u001b[0;31m---------------------------------------------------------------------------\u001b[0m",
            "\u001b[0;31mValueError\u001b[0m                                Traceback (most recent call last)",
            "\u001b[0;32m<ipython-input-76-eb3d2fcfe60a>\u001b[0m in \u001b[0;36m<module>\u001b[0;34m()\u001b[0m\n\u001b[1;32m     50\u001b[0m             \u001b[0mprint\u001b[0m\u001b[0;34m(\u001b[0m\u001b[0mProductos\u001b[0m\u001b[0;34m[\u001b[0m\u001b[0mi\u001b[0m\u001b[0;34m+\u001b[0m\u001b[0;36m3\u001b[0m\u001b[0;34m]\u001b[0m\u001b[0;34m,\u001b[0m\u001b[0;34m\"X\"\u001b[0m\u001b[0;34m+\u001b[0m\u001b[0mstr\u001b[0m\u001b[0;34m(\u001b[0m\u001b[0mProductos\u001b[0m\u001b[0;34m[\u001b[0m\u001b[0mi\u001b[0m\u001b[0;34m+\u001b[0m\u001b[0;36m4\u001b[0m\u001b[0;34m]\u001b[0m\u001b[0;34m)\u001b[0m\u001b[0;34m,\u001b[0m\u001b[0;34m\"$\"\u001b[0m \u001b[0;34m+\u001b[0m \u001b[0mstr\u001b[0m\u001b[0;34m(\u001b[0m\u001b[0;34m(\u001b[0m\u001b[0mint\u001b[0m\u001b[0;34m(\u001b[0m\u001b[0mProductos\u001b[0m\u001b[0;34m[\u001b[0m\u001b[0mi\u001b[0m\u001b[0;34m+\u001b[0m\u001b[0;36m5\u001b[0m\u001b[0;34m]\u001b[0m\u001b[0;34m)\u001b[0m\u001b[0;34m*\u001b[0m\u001b[0mint\u001b[0m\u001b[0;34m(\u001b[0m\u001b[0mProductos\u001b[0m\u001b[0;34m[\u001b[0m\u001b[0mi\u001b[0m\u001b[0;34m+\u001b[0m\u001b[0;36m4\u001b[0m\u001b[0;34m]\u001b[0m\u001b[0;34m)\u001b[0m\u001b[0;34m)\u001b[0m\u001b[0;34m)\u001b[0m\u001b[0;34m)\u001b[0m\u001b[0;34m\u001b[0m\u001b[0;34m\u001b[0m\u001b[0m\n\u001b[1;32m     51\u001b[0m           \u001b[0;32melse\u001b[0m\u001b[0;34m:\u001b[0m\u001b[0;34m\u001b[0m\u001b[0;34m\u001b[0m\u001b[0m\n\u001b[0;32m---> 52\u001b[0;31m             \u001b[0mprint\u001b[0m\u001b[0;34m(\u001b[0m\u001b[0mProductos\u001b[0m\u001b[0;34m[\u001b[0m\u001b[0mi\u001b[0m\u001b[0;34m+\u001b[0m\u001b[0;36m4\u001b[0m\u001b[0;34m]\u001b[0m\u001b[0;34m,\u001b[0m\u001b[0;34m\"X\"\u001b[0m\u001b[0;34m+\u001b[0m\u001b[0mstr\u001b[0m\u001b[0;34m(\u001b[0m\u001b[0mProductos\u001b[0m\u001b[0;34m[\u001b[0m\u001b[0mi\u001b[0m\u001b[0;34m+\u001b[0m\u001b[0;36m5\u001b[0m\u001b[0;34m]\u001b[0m\u001b[0;34m)\u001b[0m\u001b[0;34m,\u001b[0m\u001b[0;34m\"$\"\u001b[0m \u001b[0;34m+\u001b[0m \u001b[0mstr\u001b[0m\u001b[0;34m(\u001b[0m\u001b[0;34m(\u001b[0m\u001b[0mint\u001b[0m\u001b[0;34m(\u001b[0m\u001b[0mProductos\u001b[0m\u001b[0;34m[\u001b[0m\u001b[0mi\u001b[0m\u001b[0;34m+\u001b[0m\u001b[0;36m6\u001b[0m\u001b[0;34m]\u001b[0m\u001b[0;34m)\u001b[0m\u001b[0;34m*\u001b[0m\u001b[0mint\u001b[0m\u001b[0;34m(\u001b[0m\u001b[0mProductos\u001b[0m\u001b[0;34m[\u001b[0m\u001b[0mi\u001b[0m\u001b[0;34m+\u001b[0m\u001b[0;36m5\u001b[0m\u001b[0;34m]\u001b[0m\u001b[0;34m)\u001b[0m\u001b[0;34m)\u001b[0m\u001b[0;34m)\u001b[0m\u001b[0;34m)\u001b[0m\u001b[0;34m\u001b[0m\u001b[0;34m\u001b[0m\u001b[0m\n\u001b[0m\u001b[1;32m     53\u001b[0m \u001b[0;34m\u001b[0m\u001b[0m\n\u001b[1;32m     54\u001b[0m \u001b[0;34m\u001b[0m\u001b[0m\n",
            "\u001b[0;31mValueError\u001b[0m: invalid literal for int() with base 10: 'Teatro en Casa'"
          ]
        }
      ]
    }
  ]
}