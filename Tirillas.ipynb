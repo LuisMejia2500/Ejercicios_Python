{
  "nbformat": 4,
  "nbformat_minor": 0,
  "metadata": {
    "colab": {
      "name": "Tirillas.ipynb",
      "provenance": [],
      "collapsed_sections": [],
      "authorship_tag": "ABX9TyPuuOfClXtKLx/RP5s1jMbq",
      "include_colab_link": true
    },
    "kernelspec": {
      "name": "python3",
      "display_name": "Python 3"
    }
  },
  "cells": [
    {
      "cell_type": "markdown",
      "metadata": {
        "id": "view-in-github",
        "colab_type": "text"
      },
      "source": [
        "<a href=\"https://colab.research.google.com/github/LuisMejia2500/Ejericios_Python/blob/master/Tirillas.ipynb\" target=\"_parent\"><img src=\"https://colab.research.google.com/assets/colab-badge.svg\" alt=\"Open In Colab\"/></a>"
      ]
    },
    {
      "cell_type": "code",
      "metadata": {
        "id": "fyKJeH82hwPH",
        "colab_type": "code",
        "colab": {
          "base_uri": "https://localhost:8080/",
          "height": 187
        },
        "outputId": "c08681d2-078f-4784-ec57-e36d4730a33f"
      },
      "source": [
        "import math\n",
        "def Descuentos(total,descuento):\n",
        "  return (math.floor(total*descuento))\n",
        "\n",
        "total=0\n",
        "Cantidad_Producto= int(input())\n",
        "Nombre=[]\n",
        "Precio=[]\n",
        "while Cantidad_Producto > 0:\n",
        "  Nombre_Pro=(input())\n",
        "  Nombre.append(Nombre_Pro)\n",
        "  Precio_Pro=int(input())\n",
        "  Precio.append(Precio_Pro)\n",
        "  total=total+Precio_Pro\n",
        "  Cantidad_Producto=Cantidad_Producto-1\n",
        "\n",
        "print (\"Centro Comercial Unaleño\")\n",
        "print (\"Compra más y Gasta Menos\")\n",
        "print(\"NIT: 899.999.063\")\n",
        "\n",
        "for i in range(0, len(Nombre)):\n",
        "  print(Nombre[i]+\" $\"+str((Precio[i])))\n",
        "\n",
        "if total>150000 and total<=300000 and total<700000:\n",
        "  Descuento=(Descuentos(total,0.1))\n",
        "  total2=total-Descuento\n",
        "  print(\"Total: $\"+str(total2))\n",
        "  print(\"En esta compra tu descuento fue $\"+str(Descuento))\n",
        "else:\n",
        "    if total>300000 and total<=700000:\n",
        "      Descuento=(Descuentos(total,0.15))\n",
        "      total2=total-Descuento\n",
        "      print(\"Total: $\"+str(total2))\n",
        "      print(\"En esta compra tu descuento fue $\"+str(Descuento))\n",
        "    else:\n",
        "      if total>700000:\n",
        "        Descuento=(Descuentos(total,0.2))\n",
        "        total2=total-Descuento\n",
        "        print(\"Total: $\"+str(total2))\n",
        "        print(\"En esta compra tu descuento fue $\"+str(Descuento))\n",
        "      else:\n",
        "        Descuento=(Descuentos(total,0))\n",
        "        total2=total-Descuento\n",
        "        print(\"Total: $\"+str(total2))\n",
        "        print(\"En esta compra tu descuento fue $\"+str(Descuento))\n",
        "print(\"Gracias por tu compra\")\n"
      ],
      "execution_count": 2,
      "outputs": [
        {
          "output_type": "stream",
          "text": [
            "1\n",
            "345\n",
            "10000000000\n",
            "Centro Comercial Unaleño\n",
            "Compra más y Gasta Menos\n",
            "NIT: 899.999.063\n",
            "345 $10000000000\n",
            "Total: $8000000000\n",
            "En esta compra tu descuento fue $2000000000\n",
            "Gracias por tu compra\n"
          ],
          "name": "stdout"
        }
      ]
    }
  ]
}