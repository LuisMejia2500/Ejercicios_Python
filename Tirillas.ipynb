{
  "nbformat": 4,
  "nbformat_minor": 0,
  "metadata": {
    "colab": {
      "name": "Tirillas.ipynb",
      "provenance": [],
      "collapsed_sections": [],
      "authorship_tag": "ABX9TyOqAEzUJLwGqoVaFeGwfiMo"
    },
    "kernelspec": {
      "name": "python3",
      "display_name": "Python 3"
    }
  },
  "cells": [
    {
      "cell_type": "code",
      "metadata": {
        "id": "fyKJeH82hwPH",
        "colab_type": "code",
        "colab": {
          "base_uri": "https://localhost:8080/",
          "height": 170
        },
        "outputId": "dda044d6-872c-4987-db75-ca20f9e17531"
      },
      "source": [
        "import math\n",
        "def Descuentos(total,descuento):\n",
        "  return (math.ceil(total*descuento))\n",
        "\n",
        "total=0\n",
        "Cantidad_Producto= int(input())\n",
        "Nombre=[]\n",
        "Precio=[]\n",
        "while Cantidad_Producto > 0:\n",
        "  Nombre_Pro=(input())\n",
        "  Nombre.append(Nombre_Pro)\n",
        "  Precio_Pro=int(input())\n",
        "  Precio.append(Precio_Pro)\n",
        "  total=total+Precio_Pro\n",
        "  Cantidad_Producto=Cantidad_Producto-1\n",
        "\n",
        "print (\"Centro Comercial Unaleño\")\n",
        "print (\"Compra más y Gasta Menos\")\n",
        "print(\"NIT:899.999.063\")\n",
        "\n",
        "for i in range(0, len(Nombre)):\n",
        "  print(Nombre[i]+\" $\",(Precio[i]))\n",
        "\n",
        "if total>150000 and total<=300000 and total<700000:\n",
        "  Descuento=(Descuentos(total,0.1))\n",
        "  #total2=total-Descuento\n",
        "  #print(\"Total: $\"+str(total))\n",
        "  print(Descuento)\n",
        "else:\n",
        "    if total>300000 and total<=700000:\n",
        "      Descuento=(Descuentos(total,0.15))\n",
        "      #total2=total-Descuento\n",
        "      #print(\"Total: $\"+str(total))\n",
        "      print(Descuento)\n",
        "    else:\n",
        "      if total>700000:\n",
        "        Descuento=(Descuentos(total,0.2))\n",
        "        #total2=total-Descuento\n",
        "        #print(\"Total: $\"+str(total))\n",
        "        print(Descuento)\n",
        "      else:\n",
        "        Descuento=(Descuentos(total,0))\n",
        "        #total2=total-Descuento\n",
        "        #print(\"Total: $\"+str(total))\n",
        "        print(Descuento)\n",
        "print(\"Gracias por tu compra\")\n"
      ],
      "execution_count": 16,
      "outputs": [
        {
          "output_type": "stream",
          "text": [
            "1\n",
            "ert\n",
            "300000\n",
            "Centro Comercial Unaleño\n",
            "Compra más y Gasta Menos\n",
            "NIT:899.999.063\n",
            "ert $ 300000\n",
            "30000\n",
            "Gracias por tu compra\n"
          ],
          "name": "stdout"
        }
      ]
    }
  ]
}