{
  "nbformat": 4,
  "nbformat_minor": 0,
  "metadata": {
    "colab": {
      "name": "Tirillas.ipynb",
      "provenance": [],
      "collapsed_sections": [],
      "authorship_tag": "ABX9TyNIrUOR7AIy/sQEnolF6DwU",
      "include_colab_link": true
    },
    "kernelspec": {
      "name": "python3",
      "display_name": "Python 3"
    }
  },
  "cells": [
    {
      "cell_type": "markdown",
      "metadata": {
        "id": "view-in-github",
        "colab_type": "text"
      },
      "source": [
        "<a href=\"https://colab.research.google.com/github/LuisMejia2500/Ejericios_Python/blob/master/Tirillas.ipynb\" target=\"_parent\"><img src=\"https://colab.research.google.com/assets/colab-badge.svg\" alt=\"Open In Colab\"/></a>"
      ]
    },
    {
      "cell_type": "code",
      "metadata": {
        "id": "fyKJeH82hwPH",
        "colab_type": "code",
        "colab": {
          "base_uri": "https://localhost:8080/",
          "height": 367
        },
        "outputId": "9700de16-5e3e-4859-ee0a-befe0c319695"
      },
      "source": [
        "import math\n",
        "def Descuentos(total,descuento):\n",
        "  return print (\"En esta compra tu descuento fue $\",(((math.ceil(total*descuento)))))\n",
        "\n",
        "total=0\n",
        "Cantidad_Producto= int(input())\n",
        "Nombre=[]\n",
        "Precio=[]\n",
        "while Cantidad_Producto > 0:\n",
        "  Nombre_Pro=(input())\n",
        "  Nombre.append(Nombre_Pro)\n",
        "  Precio_Pro=int(input())\n",
        "  Precio.append(Precio_Pro)\n",
        "  total=total+Precio_Pro\n",
        "  Cantidad_Producto=Cantidad_Producto-1\n",
        "\n",
        "print (\"Centro Comercial Unaleño\")\n",
        "print (\"Compra más y Gasta Menos\")\n",
        "print(\"NIT:899.999.063\")\n",
        "\n",
        "for i in range(0, len(Nombre)):\n",
        "  print(Nombre[i]+\" $\",(Precio[i]))\n",
        "\n",
        "if total>150000 and total<300000 and total<700000:\n",
        "  Descuento=(Descuentos(total,0.1))\n",
        "  #total2=total-Descuento\n",
        "  #print(\"Total: $\"+str(total))\n",
        "  print(Descuento)\n",
        "else:\n",
        "    if total>=300000 and total<700000:\n",
        "      Descuento=(Descuentos(total,0.15))\n",
        "      #total2=total-Descuento\n",
        "      #print(\"Total: $\"+str(total))\n",
        "      print(Descuento)\n",
        "    else:\n",
        "      if total>700000:\n",
        "        Descuento=(Descuentos(total,0.2))\n",
        "        #total2=total-Descuento\n",
        "        #print(\"Total: $\"+str(total))\n",
        "        print(Descuento)\n",
        "      else:\n",
        "        Descuento=(Descuentos(total,0))\n",
        "        #total2=total-Descuento\n",
        "        #print(\"Total: $\"+str(total))\n",
        "        print(Descuento)\n",
        "\n",
        "\n",
        "\n",
        "print(\"Gracias por tu compra\")\n"
      ],
      "execution_count": 9,
      "outputs": [
        {
          "output_type": "stream",
          "text": [
            "1\n",
            "camisas\n",
            "300000\n",
            "Centro Comercial Unaleño\n",
            "Compra más y Gasta Menos\n",
            "NIT:899.999.063\n",
            "camisas $ 300000\n",
            "En esta compra tu descuento fue $ 0\n"
          ],
          "name": "stdout"
        },
        {
          "output_type": "error",
          "ename": "NameError",
          "evalue": "ignored",
          "traceback": [
            "\u001b[0;31m---------------------------------------------------------------------------\u001b[0m",
            "\u001b[0;31mNameError\u001b[0m                                 Traceback (most recent call last)",
            "\u001b[0;32m<ipython-input-9-d4a903847eaa>\u001b[0m in \u001b[0;36m<module>\u001b[0;34m()\u001b[0m\n\u001b[1;32m     43\u001b[0m         \u001b[0;31m#total2=total-Descuento\u001b[0m\u001b[0;34m\u001b[0m\u001b[0;34m\u001b[0m\u001b[0;34m\u001b[0m\u001b[0m\n\u001b[1;32m     44\u001b[0m         \u001b[0;31m#print(\"Total: $\"+str(total))\u001b[0m\u001b[0;34m\u001b[0m\u001b[0;34m\u001b[0m\u001b[0;34m\u001b[0m\u001b[0m\n\u001b[0;32m---> 45\u001b[0;31m         \u001b[0mprint\u001b[0m\u001b[0;34m(\u001b[0m\u001b[0mFinal\u001b[0m\u001b[0;34m)\u001b[0m\u001b[0;34m\u001b[0m\u001b[0;34m\u001b[0m\u001b[0m\n\u001b[0m\u001b[1;32m     46\u001b[0m         \u001b[0mprint\u001b[0m\u001b[0;34m(\u001b[0m\u001b[0mDescuento\u001b[0m\u001b[0;34m)\u001b[0m\u001b[0;34m\u001b[0m\u001b[0;34m\u001b[0m\u001b[0m\n\u001b[1;32m     47\u001b[0m \u001b[0;34m\u001b[0m\u001b[0m\n",
            "\u001b[0;31mNameError\u001b[0m: name 'Final' is not defined"
          ]
        }
      ]
    }
  ]
}