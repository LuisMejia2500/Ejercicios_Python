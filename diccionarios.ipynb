{
  "nbformat": 4,
  "nbformat_minor": 0,
  "metadata": {
    "colab": {
      "name": "diccionarios.ipynb",
      "provenance": [],
      "authorship_tag": "ABX9TyOGocNBlG80cbDFbYffOI4O",
      "include_colab_link": true
    },
    "kernelspec": {
      "name": "python3",
      "display_name": "Python 3"
    },
    "accelerator": "GPU"
  },
  "cells": [
    {
      "cell_type": "markdown",
      "metadata": {
        "id": "view-in-github",
        "colab_type": "text"
      },
      "source": [
        "<a href=\"https://colab.research.google.com/github/LuisMejia2500/Ejercicios_Python/blob/master/diccionarios.ipynb\" target=\"_parent\"><img src=\"https://colab.research.google.com/assets/colab-badge.svg\" alt=\"Open In Colab\"/></a>"
      ]
    },
    {
      "cell_type": "code",
      "metadata": {
        "id": "rhG7_O3_6D9Y",
        "outputId": "af8ce52f-4d6e-4bbe-9564-4e06e40a1dd3",
        "colab": {
          "base_uri": "https://localhost:8080/"
        }
      },
      "source": [
        "from pprint import pprint\n",
        "visitas_mercado=int (input())\n",
        "Cantidad_productos=int (input())\n",
        "Precios={}\n",
        "Cantidad={}\n",
        "Nombre=\"\"\n",
        "Precio=\"\"\n",
        "Numero_Producto=\"\"\n",
        "n=0\n",
        "tuplas=()\n",
        "lista=[]"
      ],
      "execution_count": 57,
      "outputs": [
        {
          "output_type": "stream",
          "text": [
            "1\n",
            "5\n"
          ],
          "name": "stdout"
        }
      ]
    },
    {
      "cell_type": "code",
      "metadata": {
        "id": "VFshAchfABsO"
      },
      "source": [
        ""
      ],
      "execution_count": 23,
      "outputs": []
    },
    {
      "cell_type": "code",
      "metadata": {
        "id": "0_Tvzkr1COMY",
        "outputId": "24896c2d-8d53-4931-f21b-7e44cb8e7da8",
        "colab": {
          "base_uri": "https://localhost:8080/"
        }
      },
      "source": [
        "for n in range (visitas_mercado):\n",
        "  for n in range(Cantidad_productos):\n",
        "    tuplas = tuple ( map (str, input().split(\" \")))\n",
        "    lista.append(tuplas)\n",
        "  Precios=dict (lista)\n",
        "  lista.clear()\n",
        "  Cantidad_productos=int (input())\n",
        "  for n in range(Cantidad_productos):\n",
        "    tuplas = tuple ( map (str, input().split(\" \")))\n",
        "    lista.append(tuplas)\n",
        "    Cantidad=dict (lista)\n",
        "  Cantidad_lista=list (Cantidad.values())\n",
        "  Precio_List=list (Precios.values())\n",
        "  Contador=0\n",
        "  for n in range (len(Precio_List)):\n",
        "    Contador=float (( float (Cantidad_lista[n])* float (Precio_List[n]) )+ Contador)\n",
        "\n",
        "  print (  \"$\"+str (\"{:0.2F}\".format(Contador)))\n"
      ],
      "execution_count": 77,
      "outputs": [
        {
          "output_type": "stream",
          "text": [
            "uva 2.50\n",
            "banano 4.00\n",
            "pera 2.10\n",
            "granadilla 6.00\n",
            "naranja 5.00\n",
            "5\n",
            "uva 10\n",
            "banano 10\n",
            "pera 15\n",
            "granadilla 12\n",
            "naranja 18\n",
            "$258.50\n"
          ],
          "name": "stdout"
        }
      ]
    }
  ]
}